{
 "cells": [
  {
   "cell_type": "markdown",
   "metadata": {},
   "source": [
    "# Курсовая работа по дисциплине СиАОД №1\n",
    "## Выполнила студентка группы БСТ1903 Чижова Екатерина Михайловна\n",
    "### Задача 1\n",
    "#### «Треугольник с максимальным периметром»\n",
    "Массив A состоит из целых положительных чисел - длин отрезков. Составьте из трех отрезков такой треугольник, чтобы его периметр был максимально возможным. Если невозможно\n",
    "составить треугольник с положительной площадью - функция возвращает 0."
   ]
  },
  {
   "cell_type": "code",
   "execution_count": 25,
   "metadata": {},
   "outputs": [
    {
     "name": "stdout",
     "output_type": "stream",
     "text": [
      "1 2 1\n",
      "0\n"
     ]
    }
   ],
   "source": [
    "a = [int(n) for n in input().split()]\n",
    "a.sort()\n",
    "i=len(a)-1\n",
    "while (i>1) and (a[i-1]+a[i-2]<=a[i]):\n",
    "    i=i-1\n",
    "if (a[i]+a[i-1]>a[i-2]):\n",
    "    print (a[i]+a[i-1]+a[i-2])\n",
    "else:\n",
    "    print (0)"
   ]
  },
  {
   "cell_type": "markdown",
   "metadata": {},
   "source": [
    "### Задача 2\n",
    "#### «Максимальное число»\n",
    "Дан массив неотрицательных целых чисел nums. Расположите их в таком порядке, чтобы\n",
    "вместе они образовали максимально возможное число."
   ]
  },
  {
   "cell_type": "code",
   "execution_count": 7,
   "metadata": {},
   "outputs": [
    {
     "name": "stdout",
     "output_type": "stream",
     "text": [
      "991 9\n",
      "9991\n"
     ]
    }
   ],
   "source": [
    "class chislo:\n",
    "    def poradok(a, b):\n",
    "        if str(a)+str(b)>str(b)+str(a):\n",
    "            return False\n",
    "        else:\n",
    "            return True\n",
    "    def sort(a):\n",
    "        s=\"\"\n",
    "        for i in range (len(a)):\n",
    "            for j in range (i+1, len(a)):\n",
    "                if chislo.poradok (a[i], a[j]):\n",
    "                    a[i], a[j]=a[j], a[i]\n",
    "        for i in range (len(a)):\n",
    "            s=s+str(a[i])\n",
    "        return (s)\n",
    "\n",
    "b=chislo();\n",
    "a = [int(n) for n in input().split()]\n",
    "print(chislo.sort(a))"
   ]
  },
  {
   "cell_type": "markdown",
   "metadata": {},
   "source": [
    "### Задача 3\n",
    "####  «Сортировка диагоналей в матрице»\n",
    "Дана матрица mat размером m * n, значения - целочисленные. Напишите функцию, сортирующую каждую диагональ матрицы по возрастанию и возвращающую получившуюся матрицу"
   ]
  },
  {
   "cell_type": "code",
   "execution_count": 67,
   "metadata": {},
   "outputs": [],
   "source": [
    "def random_matrix(m = 50, n = 50, min_limit = -250, max_limit = 1020):\n",
    "    import random\n",
    "    return [[random.randint(min_limit, max_limit) for _ in range(n)] for _ in range(m)]"
   ]
  },
  {
   "cell_type": "code",
   "execution_count": 16,
   "metadata": {},
   "outputs": [],
   "source": [
    "def insertion_sort(arr):\n",
    "    for f in range (0, len(arr)-1):\n",
    "        i=1 \n",
    "        while (i<len(arr[0])):\n",
    "            g=f          \n",
    "            key = arr[g+1][i]           \n",
    "            j = i - 1\n",
    "            i=i+1\n",
    "            while (j >= 0 and key < arr[g][j] and g>=0):\n",
    "                arr[g+1][j + 1] = arr[g][j]\n",
    "                j = j - 1\n",
    "                g=g-1\n",
    "            arr[g+1][j + 1] = key\n",
    "    return (arr)"
   ]
  },
  {
   "cell_type": "code",
   "execution_count": 17,
   "metadata": {},
   "outputs": [
    {
     "name": "stdout",
     "output_type": "stream",
     "text": [
      "[[11, 25, 66, 1, 69, 7], [23, 55, 17, 45, 15, 52], [75, 31, 36, 44, 58, 8], [22, 27, 33, 25, 68, 4], [84, 28, 14, 11, 5, 50]]\n",
      "[[5, 17, 4, 1, 52, 7], [11, 11, 25, 45, 8, 69], [14, 23, 25, 44, 58, 15], [22, 27, 31, 36, 50, 66], [84, 28, 75, 33, 55, 68]]\n"
     ]
    }
   ],
   "source": [
    "newMatrix = [[11, 25, 66, 1, 69, 7], [23, 55, 17, 45, 15, 52], [75, 31, 36,\n",
    "44, 58, 8], [22, 27, 33, 25, 68, 4], [84, 28, 14, 11, 5, 50]]\n",
    "print (newMatrix)\n",
    "newArr=insertion_sort(newMatrix)\n",
    "print (newArr)"
   ]
  },
  {
   "cell_type": "markdown",
   "metadata": {},
   "source": [
    "### Задача 4\n",
    "#### «Шарики и стрелы»\n",
    "Некоторые сферические шарики распределены по двухмерному пространству. Для каждого\n",
    "шарика даны x­координаты начала и конца его горизонтального диаметра. Так как пространство\n",
    "двумерно, то y­координаты не имеют значения в данной задаче. Координата xstart всегда меньше\n",
    "xend.\n",
    "Стрелу можно выстрелить строго вертикально (вдоль y­оси) из разных точек x­оси. Шарик\n",
    "с координатами xstart и xend уничтожается стрелой, если она была выпущена из такой позиции\n",
    "x, что xstart ⩽ x ⩽ xend. Когда стрела выпущена, она летит в пространстве бесконечное время\n",
    "(уничтожая все шарики на пути).\n",
    "Дан массив points, где points[i] = [xstart, xend]. Напишите функцию, возвращающую минимальное количество стрел, которые нужно выпустить, чтобы уничтожить все шарики."
   ]
  },
  {
   "cell_type": "code",
   "execution_count": 4,
   "metadata": {},
   "outputs": [
    {
     "name": "stdout",
     "output_type": "stream",
     "text": [
      "[[1, 2]]\n",
      "1\n"
     ]
    }
   ],
   "source": [
    "class sh:\n",
    "    def __init__(self, mass):\n",
    "        self.mass=mass\n",
    "        self.count=1\n",
    "    \n",
    "    def search(self):\n",
    "        if len(self.mass)==0:\n",
    "            self.count=0\n",
    "        else:\n",
    "            m=0\n",
    "            for i in range(len(self.mass)):\n",
    "                self.mass.sort()\n",
    "            print(self.mass)\n",
    "            for i in range(len(self.mass)-1):\n",
    "                if self.mass[m][1]<self.mass[i+1][0]:\n",
    "                    self.count=self.count+1\n",
    "                    m=i+1\n",
    "                elif self.mass[m][0]<=self.mass[i+1][0] and self.mass[m][1]>=self.mass[i+1][1]:\n",
    "                       m=i+1\n",
    "                    \n",
    "        return self.count\n",
    "            \n",
    "mass=[[1,2]]           \n",
    "a=sh(mass)\n",
    "print(a.search())"
   ]
  },
  {
   "cell_type": "markdown",
   "metadata": {},
   "source": [
    "### Задача 5\n",
    "#### «Стопки монет»\n",
    "На столе стоят 3n стопок монет. Вы и ваши друзья Алиса и Боб забираете стопки монет по\n",
    "следующему алгоритму:\n",
    "1. Вы выбираете 3 стопки монет из оставшихся на столе.\n",
    "2. Алиса забирает себе стопку с максимальным количеством монет.\n",
    "3. Вы забираете одну из двух оставшихся стопок.\n",
    "4. Боб забирает последнюю стопку.\n",
    "5. Если еще остались стопки, то действия повторяются с первого шага.\n",
    "Дан массив целых положительных чисел piles. Напишите функцию, возвращающую максимальное число монет, которое вы можете получить."
   ]
  },
  {
   "cell_type": "code",
   "execution_count": 9,
   "metadata": {},
   "outputs": [
    {
     "data": {
      "text/plain": [
       "18"
      ]
     },
     "execution_count": 9,
     "metadata": {},
     "output_type": "execute_result"
    }
   ],
   "source": [
    "def moneti(arr):\n",
    "    arr.sort()\n",
    "    a=len(arr)//3\n",
    "    s=0\n",
    "    while a<len(arr):\n",
    "        s=s+arr[a]\n",
    "        a=a+2\n",
    "    return (s)\n",
    "\n",
    "moneti ( [9,8,7,6,5,1,2,3,4])"
   ]
  },
  {
   "cell_type": "markdown",
   "metadata": {},
   "source": [
    "### Задача 6\n",
    "#### «Объединение отрезков»\n",
    "Дан массив отрезков intervals, в котором intervals[i] = [start_i, end_i], некоторые\n",
    "отрезки могут пересекаться. Напишите функцию, которая объединяет все пересекающиеся отрезки в один и возвращает новый массив непересекающихся отрезков."
   ]
  },
  {
   "cell_type": "code",
   "execution_count": null,
   "metadata": {},
   "outputs": [],
   "source": []
  }
 ],
 "metadata": {
  "kernelspec": {
   "display_name": "Python 3",
   "language": "python",
   "name": "python3"
  },
  "language_info": {
   "codemirror_mode": {
    "name": "ipython",
    "version": 3
   },
   "file_extension": ".py",
   "mimetype": "text/x-python",
   "name": "python",
   "nbconvert_exporter": "python",
   "pygments_lexer": "ipython3",
   "version": "3.8.5"
  }
 },
 "nbformat": 4,
 "nbformat_minor": 4
}
