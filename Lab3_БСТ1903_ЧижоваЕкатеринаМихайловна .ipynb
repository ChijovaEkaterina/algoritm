{
 "cells": [
  {
   "cell_type": "markdown",
   "metadata": {},
   "source": [
    "# Лабораторная работа №3\n",
    "## Выполнила студентка группы БСТ1903 Чижова Екатерина Михайловна \n",
    "### Задание №1\n",
    "Реализовать методы поиска подстроки в строке. Добавить возможность\n",
    "ввода строки и подстроки с клавиатуры. Предусмотреть возможность\n",
    "существования пробела. Реализовать возможность выбора опции\n",
    "чувствительности или нечувствительности к регистру. Оценить время работы\n",
    "каждого алгоритма поиска и сравнить его со временем работы стандартной\n",
    "функции поиска, используемой в выбранном языке программирования. "
   ]
  },
  {
   "cell_type": "code",
   "execution_count": 13,
   "metadata": {},
   "outputs": [],
   "source": [
    "\n",
    "class search1:\n",
    "    def __init__(self, strr):\n",
    "        self.str=strr.replace(' ','') \n",
    "        self.strregistr=self.str.lower() \n",
    "\n",
    "    #создание префиксной функции\n",
    "    def prefix(self, podstr):\n",
    "        p=[0]*len(podstr)\n",
    "        k=0\n",
    "        for q in range(1, len(podstr)):\n",
    "            while k>0 and (podstr[k] is not podstr[q]):\n",
    "                k=p[k]\n",
    "            if podstr[k]==podstr[q]:\n",
    "                k=k+1\n",
    "            p[q]=k\n",
    "        return p\n",
    "    # \n",
    "    \n",
    "    #поиск чувствительный к регистру\n",
    "    def search(self, podstr):\n",
    "        p=self.prefix(podstr)\n",
    "        print(\"массив\", *p)\n",
    "        q=0\n",
    "        for i in range(0, len(self.str)):\n",
    "            while q>0 and q<len(podstr) and (podstr[q] is not self.str[i]) :\n",
    "                q=p[q]\n",
    "            if podstr[q]==self.str[i]:\n",
    "                q=q+1\n",
    "            if q==len(podstr):\n",
    "                print(\"подстрока найдена:\", i)\n",
    "                q=p[q-1]\n",
    "                \n",
    "     #поиск не чувствительный к регистру\n",
    "    def searchreg(self, podstr):\n",
    "        podstr=podstr.lower()\n",
    "        length_podstr=len(podstr)\n",
    "        p=self.prefix(podstr)\n",
    "        print(\"массив\", *p)\n",
    "        q=0\n",
    "        for i in range(0, len(self.str)):\n",
    "            while q>0 and q<len(podstr) and (podstr[q] is not self.strregistr[i]) :\n",
    "                q=p[q]\n",
    "            if podstr[q]==self.strregistr[i]:\n",
    "                q=q+1\n",
    "            if q==len(podstr):\n",
    "                print(\"подстрока начинается с позиции:\", i)\n",
    "                q=p[q-1]"
   ]
  },
  {
   "cell_type": "code",
   "execution_count": 14,
   "metadata": {},
   "outputs": [
    {
     "name": "stdout",
     "output_type": "stream",
     "text": [
      "массив 0 0 0\n",
      "массив 0 0 0\n",
      "подстрока начинается с позиции: 12\n"
     ]
    }
   ],
   "source": [
    "a=search1(\"ghjunnfdjkRun\")\n",
    "a.search(\"run\")\n",
    "a.searchreg(\"run\")"
   ]
  },
  {
   "cell_type": "code",
   "execution_count": 21,
   "metadata": {},
   "outputs": [],
   "source": [
    "class search2:    \n",
    "    def __init__(self, strr):\n",
    "        self.str=strr.replace(' ','') # удаление пробелов между символами\n",
    "        self.strregistr=self.str.lower()\n",
    "        \n",
    "    #создание префиксной функции\n",
    "    def prefix(self, podstr):\n",
    "        length_podstr=len(podstr)\n",
    "        p=[0]*(length_podstr)\n",
    "        k=1\n",
    "        for q in range(0,length_podstr):\n",
    "            p[q]=length_podstr-k\n",
    "            k=k+1\n",
    "        p[length_podstr-1]=length_podstr\n",
    "        return p \n",
    "    \n",
    "     #поиск чувствительный к регистру\n",
    "    def search(self, podstr):\n",
    "        length_str=len(self.str)\n",
    "        length_podstr=len(podstr)\n",
    "        p=self.prefix(podstr)\n",
    "        i=length_podstr-1\n",
    "        j=i\n",
    "        st=0\n",
    "        while i<length_str:\n",
    "            if self.str[i]==podstr[j]:\n",
    "                if(j==0):\n",
    "                    print(\"подстрока найдена\", i, i+length_podstr-1)\n",
    "                    i=i+(p[length_podstr-1]*2)-1\n",
    "                    j=length_podstr-1\n",
    "                else:\n",
    "                    i=i-1\n",
    "                    j=j-1                    \n",
    "            else:\n",
    "                while self.str[i] is not podstr[j]:\n",
    "                    j=j-1;\n",
    "                    if j==-1:\n",
    "                        j=length_podstr-1\n",
    "                        break\n",
    "                i=i+p[j]\n",
    "                j=length_podstr-1\n",
    "    def searchreg(self, podstr):\n",
    "        podstr=podstr.lower()\n",
    "        length_str=len(self.str)\n",
    "        length_podstr=len(podstr)\n",
    "        p=self.prefix(podstr)\n",
    "        i=length_podstr-1\n",
    "        j=i\n",
    "        st=0\n",
    "        while i<length_str:\n",
    "            if self.strregistr[i]==podstr[j]:\n",
    "                if(j==0):\n",
    "                    print(\"подстрока найдена\", i, i+length_podstr-1)\n",
    "                    i=i+(p[length_podstr-1]*2)-1\n",
    "                    j=length_podstr-1\n",
    "                else:\n",
    "                    i=i-1\n",
    "                    j=j-1                    \n",
    "            else:\n",
    "                while self.strregistr[i] is not podstr[j]:\n",
    "                    j=j-1;\n",
    "                    if j==-1:\n",
    "                        j=length_podstr-1\n",
    "                        break\n",
    "                i=i+p[j]\n",
    "                j=length_podstr-1"
   ]
  },
  {
   "cell_type": "code",
   "execution_count": 23,
   "metadata": {},
   "outputs": [
    {
     "name": "stdout",
     "output_type": "stream",
     "text": [
      "подстрока найдена 10 12\n"
     ]
    }
   ],
   "source": [
    "a=search2(\"ghjunnfdjkRun\")\n",
    "a.search(\"run\")\n",
    "a.searchreg(\"run\")"
   ]
  },
  {
   "cell_type": "code",
   "execution_count": null,
   "metadata": {},
   "outputs": [],
   "source": []
  }
 ],
 "metadata": {
  "kernelspec": {
   "display_name": "Python 3",
   "language": "python",
   "name": "python3"
  },
  "language_info": {
   "codemirror_mode": {
    "name": "ipython",
    "version": 3
   },
   "file_extension": ".py",
   "mimetype": "text/x-python",
   "name": "python",
   "nbconvert_exporter": "python",
   "pygments_lexer": "ipython3",
   "version": "3.8.5"
  }
 },
 "nbformat": 4,
 "nbformat_minor": 4
}
