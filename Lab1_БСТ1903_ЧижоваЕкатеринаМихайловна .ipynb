{
 "cells": [
  {
   "cell_type": "markdown",
   "metadata": {},
   "source": [
    "# Лабораторная работа №1\n",
    "## Выполнила студентка группы БСТ1903 Чижова Екатерина Михайловна\n",
    "### Задание №1\n",
    "1. Создать Jupyter Notebook со следующим наименованием: Lab1_Группа_ФИО\n",
    "2. Создать новую ячейку с помощью кнопки\n",
    "3. В созданной ячейке по указанной форме заполнить оглавление файла, после чего создайть еще одну ячейку и написать следующий код: print (\"Hello, World!\")\n",
    "4. С помощью кнопки запустите выполнение всех ячеек.\n",
    "5. После выполнения у вас должна отформатироваться ячейка с оглавлением и должен выполниться “Hello, World!”"
   ]
  },
  {
   "cell_type": "code",
   "execution_count": 1,
   "metadata": {},
   "outputs": [],
   "source": [
    "def random_arr(m = 50, min_limit = -250, max_limit = 1020):\n",
    "    import random\n",
    "    return [random.randint(min_limit, max_limit) for _ in range(m)]"
   ]
  },
  {
   "cell_type": "code",
   "execution_count": 2,
   "metadata": {},
   "outputs": [],
   "source": [
    "def BinSearch(arr, x):\n",
    "    i = 0\n",
    "    j = len(arr)-1\n",
    "    while i < j:\n",
    "        m = int((i+j)/2)\n",
    "        if x > arr[m]:\n",
    "            i = m+1\n",
    "        else:\n",
    "            j = m\n",
    "    if arr[j] == x:\n",
    "        return j\n",
    "    else:\n",
    "        return None"
   ]
  },
  {
   "cell_type": "code",
   "execution_count": 3,
   "metadata": {},
   "outputs": [
    {
     "name": "stdout",
     "output_type": "stream",
     "text": [
      "[-9, -5, 3, 4, 12, 21, 25, 35, 36, 43, 46, 59, 59, 66, 99]\n",
      " Номер искомого элемента  2\n"
     ]
    }
   ],
   "source": [
    "newMatrix = random_arr(15, -25, 100)\n",
    "newMatrix.sort()\n",
    "print (newMatrix)\n",
    "g=BinSearch(newMatrix, 3)\n",
    "print (\" Номер искомого элемента \", g)"
   ]
  },
  {
   "cell_type": "markdown",
   "metadata": {},
   "source": [
    "### Задание №2\n",
    "Написать генератор случайных матриц(многомерных), который принимает опциональные параметры m, n, min_limit, max_limit, где m и n указывают размер матрицы, а min_lim и max_lim - минимальное и максимальное значение для генерируемого числа . По умолчанию при отсутствии параметров принимать следующие значения:\n",
    "\n",
    "m = 50\n",
    "\n",
    "n = 50\n",
    "\n",
    "min_limit = -250\n",
    "\n",
    "max_limit = 1000 + (номер своего варианта)\n",
    "Мой вариант 20, поэтому max_limit = 1020"
   ]
  },
  {
   "cell_type": "code",
   "execution_count": 2,
   "metadata": {},
   "outputs": [],
   "source": [
    "def random_matrix(m = 50, n = 50, min_limit = -250, max_limit = 1020):\n",
    "    import random\n",
    "    return [[random.randint(min_limit, max_limit) for _ in range(n)] for _ in range(m)]"
   ]
  },
  {
   "cell_type": "code",
   "execution_count": 3,
   "metadata": {},
   "outputs": [
    {
     "name": "stdout",
     "output_type": "stream",
     "text": [
      "[[5, 8, 26, 74, 74], [33, -6, 79, 37, 65], [90, -18, -13, 60, -3], [64, -19, -6, 9, 83], [63, 39, 44, 12, 36]]\n"
     ]
    }
   ],
   "source": [
    "newMatrix = random_matrix(5, 5, -25, 100)\n",
    "print (newMatrix)"
   ]
  },
  {
   "cell_type": "markdown",
   "metadata": {},
   "source": [
    "### Задание №3\n",
    "Реализовать методы сортировки строк числовой матрицы в соответствии с заданием. Оценить время работы каждого алгоритма сортировки и сравнить его со временем стандартной функции сортировки. Испытания проводить на сгенерированных матрицах.\n",
    "\n",
    "Методы:\n",
    "\n",
    "Выбором\n",
    "Вставкой\n",
    "Обменом\n",
    "Шелла\n",
    "Турнирная\n",
    "Быстрая сортировка\n",
    "Пирамидальная"
   ]
  },
  {
   "cell_type": "code",
   "execution_count": 4,
   "metadata": {},
   "outputs": [],
   "source": [
    "## Сортировка выбором\n",
    "def selection_sort(arr, m):\n",
    "    for g in range (0, m):\n",
    "        for i in range(0, len(arr) - 1):\n",
    "            smallest = arr[g][i]\n",
    "            ind=i\n",
    "            for j in range(i + 1, len(arr)):\n",
    "                if arr[g][j] < arr[g][ind]:\n",
    "                    smallest =arr[g][j] \n",
    "                    arr[g][j]=arr[g][ind]\n",
    "                    arr[g][ind]= smallest\n",
    "    return (arr)"
   ]
  },
  {
   "cell_type": "code",
   "execution_count": 5,
   "metadata": {},
   "outputs": [
    {
     "name": "stdout",
     "output_type": "stream",
     "text": [
      "[[84, 62, 88, -13, -15], [96, 14, 10, 88, -25], [63, -23, 47, 5, 10], [76, 78, 4, 41, -12], [70, 35, -15, 92, 34]]\n",
      "[[-15, -13, 62, 84, 88], [-25, 10, 14, 88, 96], [-23, 5, 10, 47, 63], [-12, 4, 41, 76, 78], [-15, 34, 35, 70, 92]]\n"
     ]
    }
   ],
   "source": [
    "newMatrix = random_matrix(5, 5, -25, 100)\n",
    "print (newMatrix)\n",
    "newArr=selection_sort(newMatrix, 5)\n",
    "print (newArr)"
   ]
  },
  {
   "cell_type": "code",
   "execution_count": 6,
   "metadata": {},
   "outputs": [],
   "source": [
    "## Сортировка вставкой\n",
    "def insertion_sort(arr, m):\n",
    "    for g in range (0, m):\n",
    "         for i in range(1, len(arr)):\n",
    "            key = arr[g][i]\n",
    "            j = i - 1\n",
    "            while (j >= 0 and key < arr[g][j]):\n",
    "                arr[g][j + 1] = arr[g][j]\n",
    "                j = j - 1\n",
    "            arr[g][j + 1] = key\n",
    "    return (arr)  \n",
    "        "
   ]
  },
  {
   "cell_type": "code",
   "execution_count": 7,
   "metadata": {},
   "outputs": [
    {
     "name": "stdout",
     "output_type": "stream",
     "text": [
      "[[-7, -22, 32, 9, 40], [62, 18, -21, 85, 22], [79, 53, 64, -8, -4], [58, 74, 64, 92, 89], [96, -6, 55, 60, -4]]\n",
      "[[-22, -7, 9, 32, 40], [-21, 18, 22, 62, 85], [-8, -4, 53, 64, 79], [58, 64, 74, 89, 92], [-6, -4, 55, 60, 96]]\n"
     ]
    }
   ],
   "source": [
    "newMatrix = random_matrix(5, 5, -25, 100)\n",
    "print (newMatrix)\n",
    "newArr=insertion_sort(newMatrix, 5)\n",
    "print (newArr)"
   ]
  },
  {
   "cell_type": "code",
   "execution_count": 8,
   "metadata": {},
   "outputs": [],
   "source": [
    "## Сортировка обменом\n",
    "def bubble_sort(arr, m):\n",
    "    for g in range (0, m):\n",
    "        j=len(arr)-1\n",
    "        while (j>=1):\n",
    "            for i in range (0, j):\n",
    "                if arr[g][i]>arr[g][i+1]:\n",
    "                    arr[g][i], arr[g][i+1]=arr[g][i+1], arr[g][i]\n",
    "            j=j-1\n",
    "    return (arr) \n",
    "        "
   ]
  },
  {
   "cell_type": "code",
   "execution_count": 9,
   "metadata": {},
   "outputs": [
    {
     "name": "stdout",
     "output_type": "stream",
     "text": [
      "[[-7, 63, 2, 88, 87], [6, 11, 24, 79, 59], [68, 65, 61, 8, 84], [-11, -23, 71, -20, -13], [-14, 69, -17, 35, 66]]\n",
      "[[-7, 2, 63, 87, 88], [6, 11, 24, 59, 79], [8, 61, 65, 68, 84], [-23, -20, -13, -11, 71], [-17, -14, 35, 66, 69]]\n"
     ]
    }
   ],
   "source": [
    "newMatrix = random_matrix(5, 5, -25, 100)\n",
    "print (newMatrix)\n",
    "newArr=bubble_sort(newMatrix, 5)\n",
    "print (newArr)"
   ]
  },
  {
   "cell_type": "code",
   "execution_count": 10,
   "metadata": {},
   "outputs": [],
   "source": [
    "## Сортировка Шелла\n",
    "def shell_sort(arr, m):\n",
    "    for g in range (0, m):\n",
    "        b = len(arr) \n",
    "        k = b // 2\n",
    "        while k > 0:\n",
    "            for i in range(0, b-k):\n",
    "                j = i\n",
    "                while j >= 0 and arr[g][j] > arr[g][j+k]:\n",
    "                    arr[g][j], arr[g][j+k] = arr[g][j+k], arr[g][j]\n",
    "                    j = j-1\n",
    "            k //= 2\n",
    "    return (arr)"
   ]
  },
  {
   "cell_type": "code",
   "execution_count": 11,
   "metadata": {},
   "outputs": [
    {
     "name": "stdout",
     "output_type": "stream",
     "text": [
      "[[-5, 48, -12, 52, 97], [12, 66, 54, -6, -17], [92, 6, -9, 71, 60], [63, 80, 79, 16, 56], [-25, 2, 0, 24, -10]]\n",
      "[[-12, -5, 48, 52, 97], [-17, -6, 12, 54, 66], [-9, 6, 60, 71, 92], [16, 56, 63, 79, 80], [-25, -10, 0, 2, 24]]\n"
     ]
    }
   ],
   "source": [
    "newMatrix = random_matrix(5, 5, -25, 100)\n",
    "print (newMatrix)\n",
    "newArr=shell_sort(newMatrix, 5)\n",
    "print (newArr)"
   ]
  },
  {
   "cell_type": "code",
   "execution_count": 12,
   "metadata": {},
   "outputs": [],
   "source": [
    "# Турнирная сортировка\n",
    "def tournament_sort_mass(arr, m):\n",
    "    for g in range (0, m):\n",
    "        tournament_sort(arr[g])\n",
    "    return (arr)\n",
    "def tournament_sort(arr):\n",
    "    tree = [None] * 2 * (len(arr) + len(arr) % 2)\n",
    "    index = len(tree) - len(arr) - len(arr) % 2\n",
    "    \n",
    "    for i, v in enumerate(arr):\n",
    "        tree[index + i] = (i, v)\n",
    "    \n",
    "    for j in range(len(arr)):\n",
    "        n = len(arr)\n",
    "        index = len(tree) - len(arr) - len(arr) % 2\n",
    "        while index > -1:\n",
    "            n = (n + 1) // 2\n",
    "            for i in range(n):\n",
    "                i = max(index + i * 2, 1) \n",
    "                if tree[i] != None and tree[i + 1] != None:\n",
    "                    if tree[i][1] < tree[i + 1][1]:\n",
    "                        tree[i // 2] = tree[i]\n",
    "                    else:\n",
    "                        tree[i // 2] = tree[i + 1]\n",
    "                else:\n",
    "                    tree[i // 2] = tree[i] if tree[i] != None else tree[i + 1]\n",
    "            index -= n\n",
    "\n",
    "        index, x = tree[0]\n",
    "        arr[j] = x\n",
    "        tree[len(tree) - len(arr) - len(arr) % 2 + index] = None\n",
    "    return (arr)"
   ]
  },
  {
   "cell_type": "code",
   "execution_count": 13,
   "metadata": {},
   "outputs": [
    {
     "name": "stdout",
     "output_type": "stream",
     "text": [
      "[[96, 31, -3, 40, 48], [96, 8, 22, 67, 86], [10, 58, 83, 87, -10], [13, 57, 93, 29, -5], [48, 34, 41, -20, 16]]\n",
      "[[-3, 31, 40, 48, 96], [8, 22, 67, 86, 96], [-10, 10, 58, 83, 87], [-5, 13, 29, 57, 93], [-20, 16, 34, 41, 48]]\n"
     ]
    }
   ],
   "source": [
    "newMatrix = random_matrix(5, 5, -25, 100)\n",
    "print (newMatrix)\n",
    "newArr=tournament_sort_mass(newMatrix, 5)\n",
    "print (newArr)"
   ]
  },
  {
   "cell_type": "code",
   "execution_count": null,
   "metadata": {},
   "outputs": [],
   "source": [
    "# Пирамидальная сортировка\n",
    "def heapify(arr, n, i, g):\n",
    "    largest = i \n",
    "    l = 2 * i + 1  \n",
    "    r = 2 * i + 2   \n",
    "    if l < n and arr[g][i] < arr[g][l]:\n",
    "        largest = l\n",
    "    if r < n and arr[g][largest] < arr[g][r]:\n",
    "        largest = r\n",
    "    if largest != i:\n",
    "        arr[g][i], arr[g][largest] = arr[g][largest], arr[g][i] \n",
    "        heapify(arr, n, largest, g)\n",
    "def heap_sort(arr, m):\n",
    "    n = len(arr)\n",
    "    g=m-1\n",
    "    while g>= 0:\n",
    "        for i in range(n, -1, -1):\n",
    "            heapify(arr, n, i, g)\n",
    "        for i in range(n-1, 0, -1):\n",
    "            arr[g][i], arr[g][0] = arr[g][0], arr[g][i] \n",
    "            heapify(arr, i, 0, g)\n",
    "        g=g-1\n",
    "    return (arr)"
   ]
  },
  {
   "cell_type": "code",
   "execution_count": null,
   "metadata": {},
   "outputs": [],
   "source": [
    "newMatrix = random_matrix(5, 5, -25, 100)\n",
    "print (newMatrix)\n",
    "newArr=heap_sort(newMatrix,5)\n",
    "print (newArr)"
   ]
  },
  {
   "cell_type": "code",
   "execution_count": 44,
   "metadata": {},
   "outputs": [],
   "source": [
    "# Быстрая сортировка\n",
    "def quick_sort_mass(arr, m):\n",
    "    for g in range (0, m):\n",
    "        quick_sort(arr[g])\n",
    "    return (arr)\n",
    "def quick_sort(arr, fst=0, lst=None):\n",
    "    if lst == None:\n",
    "        lst = len(arr) - 1       \n",
    "    if fst >= lst:\n",
    "        return\n",
    "    i, j = fst, lst\n",
    "    pivot = arr[(lst + fst) // 2] \n",
    "    while i <= j:\n",
    "        while arr[i] < pivot: i += 1\n",
    "        while arr[j] > pivot: j -= 1\n",
    "        if i <= j:\n",
    "            arr[i], arr[j] = arr[j], arr[i]\n",
    "            i, j = i + 1, j - 1\n",
    "            \n",
    "    quick_sort(arr, fst, j)\n",
    "    quick_sort(arr, i, lst)\n",
    "    return (arr)"
   ]
  },
  {
   "cell_type": "code",
   "execution_count": 47,
   "metadata": {},
   "outputs": [
    {
     "name": "stdout",
     "output_type": "stream",
     "text": [
      "[[49, 49, 20, -24, 49], [24, -6, 14, 79, -16], [-10, 64, 32, -20, 45], [2, -8, 23, 72, 81], [2, 70, 29, 73, 92]]\n",
      "[[-24, 20, 49, 49, 49], [-16, -6, 14, 24, 79], [-20, -10, 32, 45, 64], [-8, 2, 23, 72, 81], [2, 29, 70, 73, 92]]\n"
     ]
    }
   ],
   "source": [
    "newMatrix = random_matrix(5, 5, -25, 100)\n",
    "print (newMatrix)\n",
    "newArr=quick_sort_mass(newMatrix, 5)\n",
    "print (newArr)"
   ]
  },
  {
   "cell_type": "code",
   "execution_count": 2,
   "metadata": {},
   "outputs": [
    {
     "name": "stdout",
     "output_type": "stream",
     "text": [
      "[8, -1, 2, 10, 1, 6, 10, 1, -5, 7]\n"
     ]
    }
   ],
   "source": [
    "import random\n",
    "\n",
    "arr = [random.randint(-10, 10) for _ in range(10)]\n",
    "print (arr)"
   ]
  },
  {
   "cell_type": "markdown",
   "metadata": {},
   "source": [
    "\n",
    "### Вывод\n",
    "В данной лабораторной работе мы написали генератор случайных матриц(многомерных), который принимает опциональные параметры и реализовали такие методы сортировки как : выбором, вставкой, обменом, Шелла, турнирная, быстрая сортировка и пирамидальная"
   ]
  },
  {
   "cell_type": "code",
   "execution_count": null,
   "metadata": {},
   "outputs": [],
   "source": []
  }
 ],
 "metadata": {
  "kernelspec": {
   "display_name": "Python 3",
   "language": "python",
   "name": "python3"
  },
  "language_info": {
   "codemirror_mode": {
    "name": "ipython",
    "version": 3
   },
   "file_extension": ".py",
   "mimetype": "text/x-python",
   "name": "python",
   "nbconvert_exporter": "python",
   "pygments_lexer": "ipython3",
   "version": "3.8.5"
  }
 },
 "nbformat": 4,
 "nbformat_minor": 4
}
